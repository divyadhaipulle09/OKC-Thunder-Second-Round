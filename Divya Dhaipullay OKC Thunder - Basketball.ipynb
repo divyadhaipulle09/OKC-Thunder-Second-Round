{
 "cells": [
  {
   "cell_type": "code",
   "execution_count": 1,
   "id": "07ea5a90",
   "metadata": {},
   "outputs": [],
   "source": [
    "import csv, math"
   ]
  },
  {
   "cell_type": "code",
   "execution_count": 2,
   "id": "a30ebdbc",
   "metadata": {},
   "outputs": [],
   "source": [
    "def basketball(file):    \n",
    "    with open(file, newline='') as file:\n",
    "        A_FGA = B_FGA = 0\n",
    "        data = csv.reader(file)\n",
    "        i = 0\n",
    "        A_2PT = A_NC3 = A_C3 = B_2PT= B_NC3 = B_C3 = [0, 0, 0]\n",
    "        for r in data:\n",
    "            if i != 0:\n",
    "                z = find_zones(float(r[1]), float(r[2]))\n",
    "                if r[0] == 'Team A':\n",
    "                    if z == '2PT' and r[3] == '1':\n",
    "                        A_2PT[0] += 1\n",
    "                        A_2PT[2] += 1\n",
    "                    elif z == 'NC3':\n",
    "                        if r[3] == '1':\n",
    "                            A_NC3[0] += 1\n",
    "                            A_NC3[1] += 1\n",
    "                        A_NC3[2] += 1\n",
    "                    else:\n",
    "                        if r[3] == '1':\n",
    "                            A_C3[0] += 1\n",
    "                            A_C3[1] += 1\n",
    "                        A_C3[2] += 1\n",
    "                    A_FGA += 1\n",
    "                else:\n",
    "                    B_FGA += 1\n",
    "                    if z == '2PT' and r[3] == '1':\n",
    "                        B_2PT[0] += 1\n",
    "                        B_2PT[2] += 1\n",
    "                    elif z == 'NC3':\n",
    "                        if r[3] == '1':\n",
    "                            B_NC3[0] += 1\n",
    "                            B_NC3[1] += 1\n",
    "                        B_NC3[2] += 1\n",
    "                    else:\n",
    "                        if r[3] == '1':\n",
    "                            B_C3[0] += 1\n",
    "                            B_C3[1] += 1\n",
    "                        B_C3[2] += 1\n",
    "            i += 1\n",
    "    return list(A_2PT, A_NC3, A_C3, A_FGA), list(B_2PT, B_NC3, B_C3, B_FGA)\n"
   ]
  },
  {
   "cell_type": "code",
   "execution_count": 3,
   "id": "a002bfb1",
   "metadata": {},
   "outputs": [],
   "source": [
    "def efg_perc(fg_made, pts_3_made, fg_attempted):\n",
    "    pts_3_made = (0.5 * pts_3_made)\n",
    "    return (fg_made + pts_3_made) / fg_attempted"
   ]
  },
  {
   "cell_type": "code",
   "execution_count": 13,
   "id": "879bbcc7",
   "metadata": {},
   "outputs": [],
   "source": [
    "def find_zones(x_co, y_co):\n",
    "    longest= math.sqrt(x_co ** 2 + y_co ** 2)\n",
    "    if (x_co > 22 and y_co <= 7.8 ) or (x_co > -22 and y_co <= -7.8 ):\n",
    "        return 'C3'  \n",
    "    if longest> 23.75 and y_co > 7.8:\n",
    "        return 'NC3' \n",
    "    return '2PT' "
   ]
  },
  {
   "cell_type": "code",
   "execution_count": 14,
   "id": "79b0811a",
   "metadata": {},
   "outputs": [
    {
     "name": "stdout",
     "output_type": "stream",
     "text": [
      "A---->2PT---->1.8--->0.477\n",
      "A---->NC3---->1.8--->0.477\n",
      "A---->C3---->1.8--->0.477\n",
      "B---->2PT---->2.25--->0.477\n",
      "B---->NC3---->2.25--->0.477\n",
      "B---->C3---->2.25--->0.477\n"
     ]
    }
   ],
   "source": [
    "def find_res(teams , team_name):\n",
    "    for i in range(len(teams) - 1):\n",
    "        if i == 0:\n",
    "            zone = '2PT'\n",
    "        elif i == 1:\n",
    "            zone = 'NC3'\n",
    "        else:\n",
    "            zone = 'C3'\n",
    "        egf = round(efg_perc(teams [i][0], teams [i][1], teams [i][2]), 3)\n",
    "        SD = round(teams [i][2] / teams [3], 3)\n",
    "        print( team_name + '---->' + zone + '---->' + str(SD) + '--->' + str(egf))\n",
    "\n",
    "A, B = basketball('shots_data.csv')  \n",
    "find_res(A, 'A')\n",
    "find_res(B, 'B')"
   ]
  },
  {
   "cell_type": "code",
   "execution_count": null,
   "id": "2da01fd4",
   "metadata": {},
   "outputs": [],
   "source": []
  }
 ],
 "metadata": {
  "kernelspec": {
   "display_name": "Python 3 (ipykernel)",
   "language": "python",
   "name": "python3"
  },
  "language_info": {
   "codemirror_mode": {
    "name": "ipython",
    "version": 3
   },
   "file_extension": ".py",
   "mimetype": "text/x-python",
   "name": "python",
   "nbconvert_exporter": "python",
   "pygments_lexer": "ipython3",
   "version": "3.9.13"
  }
 },
 "nbformat": 4,
 "nbformat_minor": 5
}
